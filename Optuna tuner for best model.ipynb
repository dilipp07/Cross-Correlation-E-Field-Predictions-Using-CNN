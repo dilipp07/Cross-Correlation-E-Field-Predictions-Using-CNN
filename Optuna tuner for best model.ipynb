{
 "cells": [
  {
   "cell_type": "code",
   "execution_count": null,
   "id": "f8b424d5",
   "metadata": {},
   "outputs": [],
   "source": [
    "import pickle\n",
    "import numpy as np\n",
    "from tensorflow.keras.models import Sequential\n",
    "from tensorflow.keras.layers import Conv2D, BatchNormalization, Flatten, Dense\n",
    "from tensorflow.keras.optimizers import Adam\n",
    "from sklearn.model_selection import train_test_split\n",
    "import optuna\n"
   ]
  },
  {
   "cell_type": "code",
   "execution_count": null,
   "id": "349d3d92",
   "metadata": {},
   "outputs": [],
   "source": [
    "inputs = []\n",
    "outputs = []\n",
    "\n",
    "for i in range(1, 993):  # Load 10 datasets\n",
    "    with open(f\"input//input{i}.pkl\", \"rb\") as f:\n",
    "        inputs.append(pickle.load(f))\n",
    "    with open(f\"output//char_electric_field_{i}.pkl\", \"rb\") as f:\n",
    "        outputs.append(pickle.load(f))\n",
    "\n",
    "inputs = np.array(inputs)\n",
    "outputs = np.array(outputs)"
   ]
  },
  {
   "cell_type": "code",
   "execution_count": null,
   "id": "8747b345",
   "metadata": {},
   "outputs": [],
   "source": [
    "if outputs.ndim == 1:  # Reshape to (1000, 1) if needed\n",
    "    outputs = outputs.reshape(-1, 1)"
   ]
  },
  {
   "cell_type": "code",
   "execution_count": null,
   "id": "5d1d4b5a",
   "metadata": {},
   "outputs": [],
   "source": [
    "\n",
    "def create_model(trial):\n",
    "    \n",
    "    num_filters = trial.suggest_int(\"num_filters\", 190,487)\n",
    "    kernel_size = trial.suggest_categorical(\"kernel_size\", [9, 9, 15, 13])\n",
    "    dense_units = trial.suggest_int(\"dense_units\",190 ,909,  step=128)\n",
    "    learning_rate = trial.suggest_float(\"learning_rate\",1e-4,1e-2)\n",
    "\n",
    "    model = Sequential([\n",
    "        Conv2D(num_filters, (kernel_size, kernel_size), activation='relu', input_shape=(40, 40, 4)),\n",
    "\n",
    "        Conv2D(num_filters, (kernel_size, kernel_size), padding='same', activation='relu'),\n",
    "        \n",
    "        Conv2D(num_filters, (kernel_size, kernel_size), padding='same', activation='relu'),\n",
    "        \n",
    "        Conv2D(num_filters, (kernel_size, kernel_size), padding='same', activation='relu'),\n",
    "\n",
    "        Flatten(),\n",
    "\n",
    "        Dense(dense_units, activation='relu'),\n",
    "\n",
    "        Dense(1000, activation='linear')  # Output layer matches electric field size\n",
    "    ])\n",
    "\n",
    "    optimizer = Adam(learning_rate=learning_rate)\n",
    "    model.compile(optimizer=optimizer, loss='mean_squared_error')\n",
    "    return model\n",
    "\n",
    "\n",
    "\n"
   ]
  },
  {
   "cell_type": "code",
   "execution_count": null,
   "id": "a10909e7",
   "metadata": {},
   "outputs": [],
   "source": [
    "def objective(trial):\n",
    "    model = create_model(trial)\n",
    "\n",
    "   # Split data into train, validation, and test sets\n",
    "    X_train, X_val_test, y_train, y_val_test = train_test_split(inputs, outputs, test_size=0.2)\n",
    "    X_val, X_test, y_val, y_test = train_test_split(X_val_test, y_val_test, test_size=0.8)\n",
    "\n",
    "   # Train the model on the training set\n",
    "    model.fit(X_train, y_train, epochs=100, validation_data=(X_val, y_val))\n",
    "\n",
    "   # Evaluate the model on the test set\n",
    "    val_loss = model.evaluate(X_val, y_val)\n",
    "    return val_loss\n",
    "\n",
    "# Load data (assuming it's already loaded as inputs and outputs)\n",
    "\n",
    "# Perform hyperparameter tuning with Optuna\n",
    "study = optuna.create_study(direction=\"minimize\")\n",
    "study.optimize(objective, n_trials=20)  # Adjust n_trials as needed\n",
    "\n",
    "# Get the best hyperparameters\n",
    "best_params = study.best_params\n",
    "\n",
    "# Create the best model with the tuned hyperparameters\n"
   ]
  },
  {
   "cell_type": "code",
   "execution_count": null,
   "id": "914d3fe8",
   "metadata": {},
   "outputs": [],
   "source": [
    "import optuna\n",
    "from sklearn.model_selection import train_test_split\n",
    "from tensorflow.keras.models import Sequential\n",
    "from tensorflow.keras.layers import Conv2D, BatchNormalization, MaxPooling2D, Flatten, Dense\n",
    "from tensorflow.keras.optimizers import Adam\n",
    "\n",
    "# Assuming your input shape is (height, width, channels)\n",
    "input_shape = (40, 40, 4)\n",
    "num_classes = 1000  # Adjust according to your problem\n",
    "\n",
    "\n",
    "\n",
    "def create_model(params):\n",
    "    num_filters = params[\"num_filters\"]\n",
    "    kernel_size = params[\"kernel_size\"]\n",
    "    dense_units = params[\"dense_units\"]\n",
    "    learning_rate = params[\"learning_rate\"]\n",
    "\n",
    "    model = Sequential([\n",
    "        Conv2D(num_filters, (kernel_size, kernel_size), activation='relu', input_shape=input_shape),\n",
    "        BatchNormalization(),\n",
    "        MaxPooling2D(pool_size=(2, 2)),\n",
    "        \n",
    "        Conv2D(num_filters, (kernel_size, kernel_size), padding='same', activation='relu'),\n",
    "\n",
    "\n",
    "        Conv2D(num_filters, (kernel_size, kernel_size), padding='same', activation='relu'),\n",
    "\n",
    "\n",
    "        \n",
    "        Conv2D(num_filters, (kernel_size, kernel_size), padding='same', activation='relu'),\n",
    "        BatchNormalization(),\n",
    "\n",
    "        \n",
    "        Flatten(),\n",
    "        Dense(dense_units, activation='relu'),\n",
    "        BatchNormalization(),\n",
    "        Dense(dense_units, activation='relu'),\n",
    "        BatchNormalization(),\n",
    "        Dense(dense_units, activation='relu'),\n",
    "        BatchNormalization(),\n",
    "        Dense(num_classes, activation='linear')  # Output layer matches number of classes\n",
    "    ])\n",
    "\n",
    "    optimizer = Adam(learning_rate=learning_rate)\n",
    "    model.compile(optimizer=optimizer, loss='mean_squared_error')\n",
    "    return model"
   ]
  },
  {
   "cell_type": "code",
   "execution_count": null,
   "id": "123889c9",
   "metadata": {},
   "outputs": [],
   "source": [
    "best_model = create_model(best_params)\n",
    "\n",
    "# Train the best model on the full training set\n",
    "best_model.fit(inputs, outputs, epochs=3)  # Adjust epochs as needed\n",
    "\n",
    "# Evaluate the best model on the test set\n",
    "test_loss = best_model.evaluate(X_test, y_test)\n",
    "print(\"Test loss:\", test_loss)\n",
    "\n",
    "# Save the best model (optional)\n",
    "best_model.save(\"best_model.h5\")"
   ]
  },
  {
   "cell_type": "code",
   "execution_count": null,
   "id": "85703826",
   "metadata": {},
   "outputs": [],
   "source": [
    "X_train, X_val_test, y_train, y_val_test = train_test_split(inputs, outputs, test_size=0.2)\n",
    "X_val, X_test, y_val, y_test = train_test_split(X_val_test, y_val_test, test_size=0.8)\n"
   ]
  },
  {
   "cell_type": "code",
   "execution_count": null,
   "id": "6149de9b",
   "metadata": {},
   "outputs": [],
   "source": [
    "test_loss = best_model.evaluate(X_test, y_test)\n",
    "print(\"Test loss:\", test_loss)\n",
    "\n",
    "# Save the best model (optional)\n",
    "best_model.save(\"best_model.h5\")"
   ]
  },
  {
   "cell_type": "code",
   "execution_count": null,
   "id": "af39ca26",
   "metadata": {},
   "outputs": [],
   "source": [
    "best_params"
   ]
  },
  {
   "cell_type": "code",
   "execution_count": null,
   "id": "de301f29",
   "metadata": {},
   "outputs": [],
   "source": [
    "\n",
    "import pickle\n",
    "from tensorflow.keras.models import load_model\n",
    "import matplotlib.pyplot as plt\n",
    "# Load the array\n",
    "model = load_model(\"best_model.h5\")\n",
    "with open(r\"C:\\Users\\dilip\\OneDrive\\Desktop\\MTP\\output\\char_electric_field_188.pkl\", 'rb') as file:\n",
    "    actual_field = pickle.load(file)\n",
    "    \n",
    "\n",
    "with open(r\"C:\\Users\\dilip\\OneDrive\\Desktop\\MTP\\input\\input188.pkl\", 'rb') as file:\n",
    "    input_ = pickle.load(file)\n",
    "# actual_field = outputs[0]  # Example actual field\n",
    "\n",
    "input_ = np.expand_dims(input_, axis=0)  # Now shape should be (1, 40, 40, 4)\n",
    "\n",
    "predicted_field = model.predict(input_)  # Predict for the same input\n",
    "predicted_field=predicted_field[::-1]\n",
    "# plt.figure(figsize=(12, 6))  # Adjust figure size as needed\n",
    "\n",
    "# Plot actual field\n",
    "plt.plot(actual_field, label='Actual Electric Field')\n",
    "\n",
    "# Plot predicted field with a different color and style\n",
    "plt.plot(predicted_field[0], label='Predicted Electric Field', linestyle='--', color='red')\n",
    "\n",
    "plt.xlabel('Field Index')\n",
    "plt.ylabel('Electric Field Value')\n",
    "plt.title('Actual vs Predicted Electric Field')\n",
    "plt.legend()\n",
    "plt.grid(True)\n",
    "plt.show()"
   ]
  },
  {
   "cell_type": "code",
   "execution_count": null,
   "id": "0f9c9f3f",
   "metadata": {},
   "outputs": [],
   "source": [
    "(inputs[0:1])[0].shape"
   ]
  },
  {
   "cell_type": "code",
   "execution_count": null,
   "id": "af5f9017",
   "metadata": {},
   "outputs": [],
   "source": [
    "input_ .shape"
   ]
  },
  {
   "cell_type": "code",
   "execution_count": null,
   "id": "8639fa64",
   "metadata": {},
   "outputs": [],
   "source": [
    "plt.plot(actual_field, label='Actual Electric Field')"
   ]
  },
  {
   "cell_type": "code",
   "execution_count": null,
   "id": "f0584d7e",
   "metadata": {},
   "outputs": [],
   "source": [
    "predicted_field.shape"
   ]
  },
  {
   "cell_type": "code",
   "execution_count": null,
   "id": "61051ccb",
   "metadata": {},
   "outputs": [],
   "source": [
    "model.summary()"
   ]
  },
  {
   "cell_type": "code",
   "execution_count": null,
   "id": "3f8eab15",
   "metadata": {},
   "outputs": [],
   "source": [
    "predicted_field = predicted_field.squeeze()"
   ]
  },
  {
   "cell_type": "code",
   "execution_count": null,
   "id": "5f3a5b77",
   "metadata": {},
   "outputs": [],
   "source": [
    "plt.plot(predicted_field[0])"
   ]
  },
  {
   "cell_type": "code",
   "execution_count": null,
   "id": "e66dd5a1",
   "metadata": {},
   "outputs": [],
   "source": [
    "plt.plot(actual_field)"
   ]
  },
  {
   "cell_type": "code",
   "execution_count": null,
   "id": "e29bf553",
   "metadata": {},
   "outputs": [],
   "source": [
    "actual_field.shape"
   ]
  },
  {
   "cell_type": "code",
   "execution_count": null,
   "id": "7367b9e0",
   "metadata": {},
   "outputs": [],
   "source": [
    "predicted_field.shape"
   ]
  },
  {
   "cell_type": "code",
   "execution_count": null,
   "id": "c460e513",
   "metadata": {},
   "outputs": [],
   "source": [
    "\n",
    "\n"
   ]
  }
 ],
 "metadata": {
  "kernelspec": {
   "display_name": "Python 3 (ipykernel)",
   "language": "python",
   "name": "python3"
  },
  "language_info": {
   "codemirror_mode": {
    "name": "ipython",
    "version": 3
   },
   "file_extension": ".py",
   "mimetype": "text/x-python",
   "name": "python",
   "nbconvert_exporter": "python",
   "pygments_lexer": "ipython3",
   "version": "3.10.9"
  }
 },
 "nbformat": 4,
 "nbformat_minor": 5
}
